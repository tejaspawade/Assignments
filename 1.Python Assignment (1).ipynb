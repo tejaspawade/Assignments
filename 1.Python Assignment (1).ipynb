{
 "cells": [
  {
   "cell_type": "markdown",
   "metadata": {
    "colab_type": "text",
    "id": "l0ZzOlyxB-kf"
   },
   "source": [
    "<h1>Python: without numpy or sklearn </h1>"
   ]
  },
  {
   "cell_type": "markdown",
   "metadata": {
    "colab_type": "text",
    "id": "C0xO8JV9B-ki"
   },
   "source": [
    "<h3> Q1: Given two matrices please print the product of those two matrices </h3>\n",
    "<pre>\n",
    "\n",
    "Ex 1: A   = [[1 3 4]\n",
    "             [2 5 7]\n",
    "             [5 9 6]]\n",
    "      B   = [[1 0 0]\n",
    "             [0 1 0]\n",
    "             [0 0 1]]\n",
    "      A*B = [[1 3 4]\n",
    "             [2 5 7]\n",
    "             [5 9 6]]\n",
    "\n",
    "     \n",
    "Ex 2: A   = [[1 2]\n",
    "             [3 4]]\n",
    "      B   = [[1 2 3 4 5]\n",
    "             [5 6 7 8 9]]\n",
    "      A*B = [[11 14 17 20 23]\n",
    "             [23 30 36 42 51]]\n",
    "             \n",
    "Ex 3: A   = [[1 2]\n",
    "             [3 4]]\n",
    "      B   = [[1 4]\n",
    "             [5 6]\n",
    "             [7 8]\n",
    "             [9 6]]\n",
    "      A*B =Not possible\n",
    "</pre>"
   ]
  },
  {
   "cell_type": "code",
   "execution_count": 13,
   "metadata": {
    "colab": {},
    "colab_type": "code",
    "id": "rnssAfpgB-kj"
   },
   "outputs": [
    {
     "name": "stdout",
     "output_type": "stream",
     "text": [
      "[[11, 14, 17, 20, 23], [23, 30, 37, 44, 51]]\n"
     ]
    }
   ],
   "source": [
    "# write your python code here\n",
    "# you can take the above example as sample input for your program to test\n",
    "# it should work for any general input try not to hard code for only given input examples\n",
    "\n",
    "\n",
    "# you can free to change all these codes/structure\n",
    "# here A and B are list of lists\n",
    "def matrix_mult(A,B):\n",
    "\n",
    "    num_col_a = len(A[0])#Calculating the number of columns in first matrix i.e A\n",
    "    num_rows_b = len(B)  #Calculating rhe number of rows in second matrix i.e B\n",
    "\n",
    "    result = [[0 for _ in range(len(B[0]))] for _ in range(len(A))] #Initializing the result matrix to zero\n",
    "\n",
    "    if num_col_a == num_rows_b:  #Checking whether the number of columns of first matrix is equal to number of rows in second matrix\n",
    "        for row_a_index, row_a in enumerate(A):\n",
    "            for col_index, col_b in enumerate(zip(*B)):\n",
    "                result[row_a_index][col_index] = sum(a * b for a, b in zip(row_a, col_b))\n",
    "\n",
    "    return result\n",
    "\n",
    "A = [[1,2],[3,4]]\n",
    "B = [[1,2,3,4,5], [5,6,7,8,9]]\n",
    "print(matrix_mult(A,B))"
   ]
  },
  {
   "cell_type": "markdown",
   "metadata": {
    "colab_type": "text",
    "id": "at4VwLggB-kn"
   },
   "source": [
    "<h3> Q2: Select a number randomly with probability proportional to its magnitude from the given array of n elements</h3>\n",
    "\n",
    "consider an experiment, selecting an element from the list A randomly with probability proportional to its magnitude.\n",
    "assume we are doing the same experiment for 100 times with replacement, in each experiment you will print a number that is selected randomly from A.\n",
    "\n",
    "<pre>\n",
    "Ex 1: A = [0 5 27 6 13 28 100 45 10 79]\n",
    "let f(x) denote the number of times x getting selected in 100 experiments.\n",
    "f(100) > f(79) > f(45) > f(28) > f(27) > f(13) > f(10) > f(6) > f(5) > f(0)\n",
    "</pre>"
   ]
  },
  {
   "cell_type": "code",
   "execution_count": 24,
   "metadata": {
    "colab": {},
    "colab_type": "code",
    "id": "B6S2dpBhB-kn"
   },
   "outputs": [
    {
     "name": "stdout",
     "output_type": "stream",
     "text": [
      "100,27,13,13,79,27,100,6,28,100,45,100,79,45,45,27,27,27,27,10,100,100,100,79,100,28,79,28,79,100,100,79,100,79,45,79,100,79,79,100,100,79,45,100,27,79,100,45,100,100,13,100,10,45,45,79,100,13,100,45,79,5,100,79,79,100,45,45,10,79,45,100,5,28,10,100,79,100,13,100,27,45,79,79,45,100,45,79,79,27,28,79,45,6,28,100,45,100,79,"
     ]
    }
   ],
   "source": [
    "from random import uniform\n",
    "import random\n",
    "# write your python code here\n",
    "# you can take the above example as sample input for your program to test\n",
    "# it should work for any general input try not to hard code for only given input examples\n",
    "from random import uniform\n",
    "# you can free to change all these codes/structure\n",
    "def pick_a_number_from_list(A):\n",
    "    first=0\n",
    "    scale=sum(A)\n",
    "    random_value=uniform(0,scale)\n",
    "    for i in A:\n",
    "        last_value=first+i\n",
    "        first=last_value\n",
    "        if random_value<=last_value:\n",
    "            break\n",
    "    return i\n",
    "        \n",
    "\n",
    "def sampling_based_on_magnitued():\n",
    "   \n",
    "    for i in range(1,100):\n",
    "        number = pick_a_number_from_list(A)\n",
    "        print(number,end=\",\")\n",
    "A =[0,5,27,6,13,28,100,45,10,79]\n",
    "sampling_based_on_magnitued()"
   ]
  },
  {
   "cell_type": "markdown",
   "metadata": {
    "colab_type": "text",
    "id": "D1xQy2WWB-kq"
   },
   "source": [
    "<h3> Q3: Replace the digits in the string with #</h3>\n",
    "\n",
    "consider a string that will have digits in that, we need to remove all the not digits and replace the digits with #\n",
    "<pre>\n",
    "Ex 1: A = 234                Output: ###\n",
    "Ex 2: A = a2b3c4             Output: ###\n",
    "Ex 3: A = abc                Output:   (empty string)\n",
    "Ex 5: A = #2a$#b%c%561#      Output: ####\n",
    "</pre>"
   ]
  },
  {
   "cell_type": "code",
   "execution_count": 4,
   "metadata": {
    "colab": {},
    "colab_type": "code",
    "id": "fxczi2jzB-kr"
   },
   "outputs": [
    {
     "name": "stdout",
     "output_type": "stream",
     "text": [
      "Enter your string:#2a$#b%c%561#\n",
      "\n",
      "String before Modification = #2a$#b%c%561# and String after Modification=####\n"
     ]
    }
   ],
   "source": [
    "import re\n",
    "# write your python code here\n",
    "# you can take the above example as sample input for your program to test\n",
    "# it should work for any general input try not to hard code for only given input examples\n",
    "\n",
    "# you can free to change all these codes/structure\n",
    "# String: it will be the input to your program\n",
    "def replace_digits(str):\n",
    "    # write your code\n",
    "    mod_str1=re.sub('[^0-9]','',str)\n",
    "    mod_str=re.sub(\"\\d\",\"#\",mod_str1)\n",
    "    return mod_str # modified string which is after replacing the # with digits\n",
    "\n",
    "String=input(\"Enter your string:\")\n",
    "mod=replace_digits(String)\n",
    "print(\"\\nString before Modification = {0} and String after Modification={1}\".format(String,mod))"
   ]
  },
  {
   "cell_type": "markdown",
   "metadata": {
    "colab_type": "text",
    "id": "j7h0Ywg7B-kw"
   },
   "source": [
    "<h3> Q4: Students marks dashboard</h3>\n",
    "\n",
    "consider the marks list of class students given two lists <br>\n",
    "Students = ['student1','student2','student3','student4','student5','student6','student7','student8','student9','student10'] <br>\n",
    "Marks = [45, 78, 12, 14, 48, 43, 45, 98, 35, 80] <br>\n",
    "from the above two lists the Student[0] got Marks[0],  Student[1] got Marks[1] and so on <br><br>\n",
    "your task is to print the name of students\n",
    "<strong>a. Who got top 5 ranks, in the descending order of marks</strong> <br>\n",
    "<strong>b. Who got least 5 ranks, in the increasing order of marks</strong><br>\n",
    "<strong>d. Who got marks between  &gt;25th percentile &lt;75th percentile, in the increasing order of marks</strong>\n",
    "\n",
    "<pre>\n",
    "Ex 1: \n",
    "Students=['student1','student2','student3','student4','student5','student6','student7','student8','student9','student10'] \n",
    "Marks = [45, 78, 12, 14, 48, 43, 47, 98, 35, 80]\n",
    "a. \n",
    "student8  98\n",
    "student10 80\n",
    "student2  78\n",
    "student5  48\n",
    "student7  47\n",
    "b.\n",
    "student3 12\n",
    "student4 14\n",
    "student9 35\n",
    "student6 43\n",
    "student1 45\n",
    "c.\n",
    "student9 35\n",
    "student6 43\n",
    "student1 45\n",
    "student7 47\n",
    "student5 48\n",
    "</pre>"
   ]
  },
  {
   "cell_type": "code",
   "execution_count": 18,
   "metadata": {
    "colab": {},
    "colab_type": "code",
    "id": "cxPJgItsB-kx"
   },
   "outputs": [
    {
     "name": "stdout",
     "output_type": "stream",
     "text": [
      "a.\n",
      "student8 98\n",
      "student10 80\n",
      "student2 78\n",
      "student5 48\n",
      "student7 47\n",
      "b.\n",
      "student3 12\n",
      "student4 14\n",
      "student9 35\n",
      "student6 43\n",
      "student1 45\n",
      "c.\n",
      "student9 35\n",
      "student6 43\n",
      "student1 45\n",
      "student7 47\n",
      "student5 48\n"
     ]
    }
   ],
   "source": [
    "# write your python code here\n",
    "# you can take the above example as sample input for your program to test\n",
    "# it should work for any general input try not to hard code for only given input examples\n",
    "\n",
    "# you can free to change all these codes/structure\n",
    "def display_dash_board(marks):\n",
    "    demo_marks=list(marks)\n",
    "    # write code for computing top top 5 students\n",
    "     # compute this\n",
    "    # write code for computing top least 5 students\n",
    "    demo_marks.sort()\n",
    "    least_5_students =[]\n",
    "    for i in range(5):\n",
    "      least_5_students.append(marks.index(demo_marks[i]))\n",
    "    students_within_25_and_75 =[]\n",
    "    for i in range(len(demo_marks)):\n",
    "      if(demo_marks[i]>25 and demo_marks[i]<75):\n",
    "        students_within_25_and_75.append(marks.index(demo_marks[i]))\n",
    "    demo_marks.reverse()\n",
    "    top_5_students =[]\n",
    "    for i in range(5):\n",
    "      top_5_students.append(marks.index(demo_marks[i]))\n",
    "     # compute this\n",
    "    # write code for computing top least 5 students\n",
    "   # compute this\n",
    "    \n",
    "    return top_5_students,least_5_students,students_within_25_and_75\n",
    "students=['student1','student2','student3','student4','student5','student6','student7','student8','student9','student10'] \n",
    "marks = [45, 78, 12, 14, 48, 43, 47, 98, 35, 80]\n",
    "top_5_students, least_5_students, students_within_25_and_75 = display_dash_board(marks)\n",
    "print('a.')\n",
    "for i in range(len(top_5_students)):\n",
    "  print(students[top_5_students[i]] +' '+ str(marks[top_5_students[i]]))\n",
    "print('b.')\n",
    "for i in range(len( least_5_students)):\n",
    "  print(students[ least_5_students[i]]+' '+ str(marks[ least_5_students[i]]))\n",
    "print('c.')\n",
    "for i in range(len(students_within_25_and_75)):\n",
    "  print(students[students_within_25_and_75[i]]+' '+ str(marks[students_within_25_and_75[i]]))"
   ]
  },
  {
   "cell_type": "markdown",
   "metadata": {
    "colab_type": "text",
    "id": "qha0OhQHB-k1"
   },
   "source": [
    "<h3> Q5: Find the closest points</h3>\n",
    "\n",
    "consider you have given n data points in the form of list of tuples like S=[(x1,y1),(x2,y2),(x3,y3),(x4,y4),(x5,y5),..,(xn,yn)] and a point P=(p,q) <br> your task is to find 5 closest points(based on cosine distance) in S from P\n",
    "<br>cosine distance between two points (x,y) and (p,q) is defind as $cos^{-1}(\\frac{(x\\cdot p+y\\cdot q)}{\\sqrt(x^2+y^2)\\cdot\\sqrt(p^2+q^2)})$\n",
    "<pre>\n",
    "Ex:\n",
    "\n",
    "S= [(1,2),(3,4),(-1,1),(6,-7),(0, 6),(-5,-8),(-1,-1)(6,0),(1,-1)]\n",
    "P= (3,-4)\n",
    "<img src='https://i.imgur.com/vIFPOcG.jpg', width=300>\n",
    "Output:\n",
    "(6,-7)\n",
    "(1,-1)\n",
    "(6,0)\n",
    "(-5,-8)\n",
    "(-1,-1)\n",
    "</pre>"
   ]
  },
  {
   "cell_type": "code",
   "execution_count": 6,
   "metadata": {
    "colab": {},
    "colab_type": "code",
    "id": "wA5I1g-2B-k2"
   },
   "outputs": [
    {
     "name": "stdout",
     "output_type": "stream",
     "text": [
      "[(6, -7), (1, -1), (6, 0), (-5, -8), (-1, -1)]\n"
     ]
    }
   ],
   "source": [
    "import math\n",
    "\n",
    "# write your python code here\n",
    "# you can take the above example as sample input for your program to test\n",
    "# it should work for any general input try not to hard code for only given input examples\n",
    "# you can free to change all these codes/structure\n",
    "\n",
    "\n",
    "# here S is list of tuples and P is a tuple ot len=2\n",
    "def closest_points_to_p(S, P):\n",
    "    # write your code here\n",
    "    closest_points_to_p_values=[]\n",
    "    closest_points_to_p=[]\n",
    "    for i in range(len(S)):\n",
    "        m=math.acos(((S[i][0]*P[0])+(S[i][1]*P[1]))/((math.sqrt((S[i][0]*S[i][0])+(S[i][1]*S[i][1])))*(math.sqrt((P[0]*P[0])+(P[1]*P[1])))))\n",
    "        closest_points_to_p_values.append(m)\n",
    "    demo_ans=list(closest_points_to_p_values)\n",
    "    demo_ans.sort()\n",
    "    for i in range(5):\n",
    "        closest_points_to_p.append(S[closest_points_to_p_values.index(demo_ans[i])])\n",
    "\n",
    "    return closest_points_to_p  # its list of tuples\n",
    "\n",
    "S= [(1,2),(3,4),(-1,1),(6,-7),(0, 6),(-5,-8),(-1,-1),(6,0),(1,-1)]\n",
    "P= (3,-4)\n",
    "points = closest_points_to_p(S, P)\n",
    "print(points) #print the returned values"
   ]
  },
  {
   "cell_type": "markdown",
   "metadata": {
    "colab_type": "text",
    "id": "-g11jeAiB-k5"
   },
   "source": [
    "<h3> Q6: Find Which line separates oranges and apples</h3>\n",
    "consider you have given two set of data points in the form of list of tuples like \n",
    "<pre>\n",
    "Red =[(R11,R12),(R21,R22),(R31,R32),(R41,R42),(R51,R52),..,(Rn1,Rn2)]\n",
    "Blue=[(B11,B12),(B21,B22),(B31,B32),(B41,B42),(B51,B52),..,(Bm1,Bm2)]\n",
    "</pre>\n",
    "and set of line equations(in the string formate, i.e list of strings)\n",
    "<pre>\n",
    "Lines = [a1x+b1y+c1,a2x+b2y+c2,a3x+b3y+c3,a4x+b4y+c4,..,K lines]\n",
    "Note: you need to string parsing here and get the coefficients of x,y and intercept\n",
    "</pre>\n",
    "your task is to for each line that is given print \"YES\"/\"NO\", you will print yes, if all the red points are one side of the line and blue points are other side of the line, otherwise no\n",
    "<pre>\n",
    "Ex:\n",
    "Red= [(1,1),(2,1),(4,2),(2,4), (-1,4)]\n",
    "Blue= [(-2,-1),(-1,-2),(-3,-2),(-3,-1),(1,-3)]\n",
    "Lines=[\"1x+1y+0\",\"1x-1y+0\",\"1x+0y-3\",\"0x+1y-0.5\"]\n",
    "<img src='https://i.imgur.com/DoQf7mE.jpg' width=400>\n",
    "Output:\n",
    "YES\n",
    "NO\n",
    "NO\n",
    "YES\n",
    "</pre>"
   ]
  },
  {
   "cell_type": "code",
   "execution_count": 7,
   "metadata": {
    "colab": {},
    "colab_type": "code",
    "id": "eRxExaTRB-k6"
   },
   "outputs": [
    {
     "name": "stdout",
     "output_type": "stream",
     "text": [
      "YES\n",
      "NO\n",
      "NO\n",
      "YES\n"
     ]
    }
   ],
   "source": [
    "import math\n",
    "# write your python code here\n",
    "# you can take the above example as sample input for your program to test\n",
    "# it should work for any general input try not to hard code for only given input strings\n",
    "\n",
    "\n",
    "# you can free to change all these codes/structure\n",
    "def i_am_the_one(red, blue, line):\n",
    "    sign_of_equation_with_red_point_tuple = -1\n",
    "\n",
    "    if eval(line.replace('x', '*%s' % red[0][0]).replace('y', '*%s' % red[0][1])) > 0:\n",
    "        sign_of_equation_with_red_point_tuple = 1\n",
    "    for red_point in red:\n",
    "        if sign_of_equation_with_red_point_tuple == 1 and eval(\n",
    "                line.replace('x', '*%s' % red_point[0]).replace('y', '*%s' % red_point[1])) < 0:\n",
    "            return 'NO'\n",
    "        if sign_of_equation_with_red_point_tuple == -1 and eval(\n",
    "                line.replace('x', '*%s' % red_point[0]).replace('y', '*%s' % red_point[1])) > 0:\n",
    "            return 'NO'\n",
    "\n",
    "    # Now the same set of two traversal for the blue-points tuples\n",
    "\n",
    "    sign_of_equation_with_blue_point_tuple = -1 * sign_of_equation_with_red_point_tuple\n",
    "\n",
    "    for blue_point in blue:\n",
    "        if sign_of_equation_with_blue_point_tuple == 1 and eval(\n",
    "                line.replace('x', '*%s' % blue_point[0]).replace('y', '*%s' % blue_point[1])) < 0:\n",
    "            return 'NO'\n",
    "        if sign_of_equation_with_blue_point_tuple == -1 and eval(\n",
    "                line.replace('x', '*%s' % blue_point[0]).replace('y', '*%s' % blue_point[1])) > 0:\n",
    "            return 'NO'\n",
    "\n",
    "    return 'YES'\n",
    "\n",
    "Red= [(1,1),(2,1),(4,2),(2,4), (-1,4)]\n",
    "Blue= [(-2,-1),(-1,-2),(-3,-2),(-3,-1),(1,-3)]\n",
    "Lines=[\"1x+1y+0\",\"1x-1y+0\",\"1x+0y-3\",\"0x+1y-0.5\"]\n",
    "\n",
    "for i in Lines:\n",
    "    yes_or_no = i_am_the_one(Red, Blue, i)\n",
    "    print(yes_or_no) # the returned value"
   ]
  },
  {
   "cell_type": "markdown",
   "metadata": {
    "colab_type": "text",
    "id": "9OBpURbNB-k9"
   },
   "source": [
    "<h3> Q7: Filling the missing values in the specified formate</h3>\n",
    "You will be given a string with digits and '\\_'(missing value) symbols you have to replace the '\\_' symbols as explained \n",
    "<pre>\n",
    "Ex 1: _, _, _, 24 ==> 24/4, 24/4, 24/4, 24/4 i.e we. have distributed the 24 equally to all 4 places <br>\n",
    "Ex 2: 40, _, _, _, 60 ==> (60+40)/5,(60+40)/5,(60+40)/5,(60+40)/5,(60+40)/5 ==> 20, 20, 20, 20, 20 i.e. the sum of (60+40) is distributed qually to all 5 places<br>\n",
    "Ex 3: 80, _, _, _, _  ==> 80/5,80/5,80/5,80/5,80/5 ==> 16, 16, 16, 16, 16 i.e. the 80 is distributed qually to all 5 missing values that are right to it<br>\n",
    "Ex 4: _, _, 30, _, _, _, 50, _, _  \n",
    "==> we will fill the missing values from left to right \n",
    "    a. first we will distribute the 30 to left two missing values (10, 10, 10, _, _, _, 50, _, _)\n",
    "    b. now distribute the sum (10+50) missing values in between (10, 10, 12, 12, 12, 12, 12, _, _) \n",
    "    c. now we will distribute 12 to right side missing values (10, 10, 12, 12, 12, 12, 4, 4, 4)\n",
    "</pre>\n",
    "for a given string with comma seprate values, which will have both missing values numbers like ex: \"_, _, x, _, _, _\"\n",
    "you need fill the missing values\n",
    "\n",
    "Q: your program reads a string like ex: \"_, _, x, _, _, _\" and returns the filled sequence\n",
    "\n",
    "Ex: \n",
    "<pre>\n",
    "Input1: \"_,_,_,24\"\n",
    "Output1: 6,6,6,6\n",
    "\n",
    "Input2: \"40,_,_,_,60\"\n",
    "Output2: 20,20,20,20,20\n",
    "\n",
    "Input3: \"80,_,_,_,_\"\n",
    "Output3: 16,16,16,16,16\n",
    "\n",
    "Input4: \"_,_,30,_,_,_,50,_,_\"\n",
    "Output4: 10,10,12,12,12,12,4,4,4\n",
    "</pre>\n",
    "\n"
   ]
  },
  {
   "cell_type": "code",
   "execution_count": 8,
   "metadata": {
    "colab": {},
    "colab_type": "code",
    "id": "nZmpzHs_B-k-"
   },
   "outputs": [
    {
     "name": "stdout",
     "output_type": "stream",
     "text": [
      "[10, 10, 12, 12, 12, 12, 4, 4, 4]\n"
     ]
    }
   ],
   "source": [
    "# write your python code here\n",
    "# you can take the above example as sample input for your program to test\n",
    "# it should work for any general input try not to hard code for only given input strings\n",
    "\n",
    "\n",
    "# you can free to change all these codes/structure\n",
    "def curve_smoothing(string):\n",
    "    lst=string.split(',')\n",
    "    for i in range(len(lst)):\n",
    "        if lst[i].isdigit():\n",
    "            for j in range(i+1):\n",
    "                lst[j]=int(lst[i])//(i+1)\n",
    "            new_index=i\n",
    "            new_value=int(lst[i])\n",
    "            break\n",
    "    for i in range(new_index+1,len(lst)):\n",
    "        if lst[i].isdigit():\n",
    "            temp=(new_value+int(lst[i]))//(i-new_index+1)\n",
    "            for j in range(new_index,i+1):\n",
    "                lst[j]=temp\n",
    "            new_index=i\n",
    "            new_value=int(lst[i])\n",
    "    try:\n",
    "        for i in range(new_index+1,len(lst)):\n",
    "            if not(lst[i].isdigit()):\n",
    "                count=lst.count('_')\n",
    "                break\n",
    "        temp1=new_value//(count+1)\n",
    "        for i in range(new_index,len(lst)):\n",
    "            lst[i]=temp1\n",
    "    except:\n",
    "        pass\n",
    "    return lst\n",
    "\n",
    "S=  \"_,_,30,_,_,_,50,_,_\"\n",
    "smoothed_values= curve_smoothing(S)\n",
    "print(smoothed_values)"
   ]
  },
  {
   "cell_type": "markdown",
   "metadata": {
    "colab_type": "text",
    "id": "RBz4pzlfB-lB"
   },
   "source": [
    "<h3> Q8: Filling the missing values in the specified formate</h3>\n",
    "You will be given a list of lists, each sublist will be of length 2 i.e. [[x,y],[p,q],[l,m]..[r,s]]\n",
    "consider its like a martrix of n rows and two columns\n",
    "1. the first column F will contain only 5 uniques values (F1, F2, F3, F4, F5)\n",
    "2. the second column S will contain only 3 uniques values (S1, S2, S3)\n",
    "<pre>\n",
    "your task is to find\n",
    "a. Probability of P(F=F1|S==S1), P(F=F1|S==S2), P(F=F1|S==S3)\n",
    "b. Probability of P(F=F2|S==S1), P(F=F2|S==S2), P(F=F2|S==S3)\n",
    "c. Probability of P(F=F3|S==S1), P(F=F3|S==S2), P(F=F3|S==S3)\n",
    "d. Probability of P(F=F4|S==S1), P(F=F4|S==S2), P(F=F4|S==S3)\n",
    "e. Probability of P(F=F5|S==S1), P(F=F5|S==S2), P(F=F5|S==S3)\n",
    "</pre>\n",
    "Ex:\n",
    "\n",
    "<pre>\n",
    "[[F1,S1],[F2,S2],[F3,S3],[F1,S2],[F2,S3],[F3,S2],[F2,S1],[F4,S1],[F4,S3],[F5,S1]]\n",
    "\n",
    "a. P(F=F1|S==S1)=1/4, P(F=F1|S==S2)=1/3, P(F=F1|S==S3)=0/3\n",
    "b. P(F=F2|S==S1)=1/4, P(F=F2|S==S2)=1/3, P(F=F2|S==S3)=1/3\n",
    "c. P(F=F3|S==S1)=0/4, P(F=F3|S==S2)=1/3, P(F=F3|S==S3)=1/3\n",
    "d. P(F=F4|S==S1)=1/4, P(F=F4|S==S2)=0/3, P(F=F4|S==S3)=1/3\n",
    "e. P(F=F5|S==S1)=1/4, P(F=F5|S==S2)=0/3, P(F=F5|S==S3)=0/3\n",
    "</pre>\n",
    "\n",
    "\n"
   ]
  },
  {
   "cell_type": "code",
   "execution_count": 9,
   "metadata": {
    "colab": {},
    "colab_type": "code",
    "id": "e-1giz1MB-lC"
   },
   "outputs": [
    {
     "name": "stdout",
     "output_type": "stream",
     "text": [
      "a. P(F=F1|S==S1)=1/4, P(F=F1|S==S2)=1/3, P(F=F1|S==S3)=0/3\n",
      "b. P(F=F2|S==S1)=1/4, P(F=F2|S==S2)=1/3, P(F=F2|S==S3)=1/3\n",
      "c. P(F=F3|S==S1)=0/4, P(F=F3|S==S2)=1/3, P(F=F3|S==S3)=1/3\n",
      "c. P(F=F4|S==S1)=1/4, P(F=F4|S==S2)=0/3, P(F=F4|S==S3)=1/3\n",
      "c. P(F=F5|S==S1)=1/4, P(F=F5|S==S2)=0/3, P(F=F5|S==S3)=0/3\n"
     ]
    }
   ],
   "source": [
    "# write your python code here\n",
    "# you can take the above example as sample input for your program to test\n",
    "# it should work for any general input try not to hard code for only given input strings\n",
    "from fractions import Fraction\n",
    "\n",
    "\n",
    "def compute_conditional_probability(A):\n",
    "    # From the given 2-D Matrix A\n",
    "    # Set a dictionary containing the count of all the F and S together\n",
    "    # This dictionary will have as many elements as the given Matrix A\n",
    "    dictionary_f_intersection_s = dict()\n",
    "    for item_list in A:\n",
    "        dict_key = str(item_list[0]) + str(item_list[1])\n",
    "        dictionary_f_intersection_s[dict_key] = 0\n",
    "    # print(dictionary_f_intersection_s)\n",
    "    # {'F1S1': 0, 'F2S2': 0, 'F3S3': 0, 'F1S2': 0, 'F2S3': 0, 'F3S2': 0, 'F2S1': 0, 'F4S1': 0, 'F4S3': 0, 'F5S1': 0}\n",
    "\n",
    "    # Set a dictionary containing the count of all the S only\n",
    "    dictionary_s = {'S1': 0, 'S2': 0, 'S3': 0}\n",
    "\n",
    "    for i in range(len(A)):\n",
    "        f_intersection_s_key = A[i][0] + A[i][1]\n",
    "        dictionary_f_intersection_s[f_intersection_s_key] += 1\n",
    "\n",
    "        s_key = A[i][1]\n",
    "        dictionary_s[s_key] += 1\n",
    "\n",
    "    # print('a. P(F=F1|S==S1)=', Fraction(dictionary_f_intersection_s['F1S1'] / dictionary_s['S1']).limit_denominator(), ' P(F=F1|S==S2)=', Fraction(dictionary_f_intersection_s['F1S2'] / dictionary_s['S2']).limit_denominator(), ' P(F=F1|S==S3)=', Fraction(dictionary_f_intersection_s.get('F1S3', 0) / dictionary_s['S3']).limit_denominator())\n",
    "    idx = 97\n",
    "    print('{0:c}. P(F=F1|S==S1)={F1S1}/{S1}, P(F=F1|S==S2)={F1S2}/{S2}, P(F=F1|S==S3)={F1S3}/{S3}'.format(idx,\n",
    "                                                                                                          F1S1=dictionary_f_intersection_s.get(\n",
    "                                                                                                              'F1S1',\n",
    "                                                                                                              0), S1=\n",
    "                                                                                                          dictionary_s[\n",
    "                                                                                                              'S1'],\n",
    "                                                                                                          F1S2=dictionary_f_intersection_s.get(\n",
    "                                                                                                              'F1S2',\n",
    "                                                                                                              0), S2=\n",
    "                                                                                                          dictionary_s[\n",
    "                                                                                                              'S2'],\n",
    "                                                                                                          F1S3=dictionary_f_intersection_s.get(\n",
    "                                                                                                              'F1S3',\n",
    "                                                                                                              0), S3=\n",
    "                                                                                                          dictionary_s[\n",
    "                                                                                                              'S3']))\n",
    "\n",
    "    print('{0:c}. P(F=F2|S==S1)={F2S1}/{S1}, P(F=F2|S==S2)={F2S2}/{S2}, P(F=F2|S==S3)={F2S3}/{S3}'.format(idx+1,\n",
    "                                                                                                          F2S1=dictionary_f_intersection_s.get(\n",
    "                                                                                                              'F2S1',\n",
    "                                                                                                              0), S1=\n",
    "                                                                                                          dictionary_s[\n",
    "                                                                                                              'S1'],\n",
    "                                                                                                          F2S2=dictionary_f_intersection_s.get(\n",
    "                                                                                                              'F2S2',\n",
    "                                                                                                              0), S2=\n",
    "                                                                                                          dictionary_s[\n",
    "                                                                                                              'S2'],\n",
    "                                                                                                          F2S3=dictionary_f_intersection_s.get(\n",
    "                                                                                                              'F2S3',\n",
    "                                                                                                              0), S3=\n",
    "                                                                                                          dictionary_s[\n",
    "                                                                                                              'S3']))\n",
    "\n",
    "    print('{0:c}. P(F=F3|S==S1)={F3S1}/{S1}, P(F=F3|S==S2)={F3S2}/{S2}, P(F=F3|S==S3)={F3S3}/{S3}'.format(idx + 2,\n",
    "                                                                                                          F3S1=dictionary_f_intersection_s.get(\n",
    "                                                                                                              'F3S1',\n",
    "                                                                                                              0), S1=\n",
    "                                                                                                          dictionary_s[\n",
    "                                                                                                              'S1'],\n",
    "                                                                                                          F3S2=dictionary_f_intersection_s.get(\n",
    "                                                                                                              'F3S2',\n",
    "                                                                                                              0), S2=\n",
    "                                                                                                          dictionary_s[\n",
    "                                                                                                              'S2'],\n",
    "                                                                                                          F3S3=dictionary_f_intersection_s.get(\n",
    "                                                                                                              'F3S3',\n",
    "                                                                                                              0), S3=\n",
    "                                                                                                          dictionary_s[\n",
    "                                                                                                              'S3']))\n",
    "\n",
    "    print('{0:c}. P(F=F4|S==S1)={F4S1}/{S1}, P(F=F4|S==S2)={F4S2}/{S2}, P(F=F4|S==S3)={F4S3}/{S3}'.format(idx + 2,\n",
    "                                                                                                          F4S1=dictionary_f_intersection_s.get(\n",
    "                                                                                                              'F4S1',\n",
    "                                                                                                              0), S1=\n",
    "                                                                                                          dictionary_s[\n",
    "                                                                                                              'S1'],\n",
    "                                                                                                          F4S2=dictionary_f_intersection_s.get(\n",
    "                                                                                                              'F4S2',\n",
    "                                                                                                              0), S2=\n",
    "                                                                                                          dictionary_s[\n",
    "                                                                                                              'S2'],\n",
    "                                                                                                          F4S3=dictionary_f_intersection_s.get(\n",
    "                                                                                                              'F4S3',\n",
    "                                                                                                              0), S3=\n",
    "                                                                                                          dictionary_s[\n",
    "                                                                                                              'S3']))\n",
    "\n",
    "    print('{0:c}. P(F=F5|S==S1)={F5S1}/{S1}, P(F=F5|S==S2)={F5S2}/{S2}, P(F=F5|S==S3)={F5S3}/{S3}'.format(idx + 2,\n",
    "                                                                                                          F5S1=dictionary_f_intersection_s.get(\n",
    "                                                                                                              'F5S1',\n",
    "                                                                                                              0), S1=\n",
    "                                                                                                          dictionary_s[\n",
    "                                                                                                              'S1'],\n",
    "                                                                                                          F5S2=dictionary_f_intersection_s.get(\n",
    "                                                                                                              'F5S2',\n",
    "                                                                                                              0), S2=\n",
    "                                                                                                          dictionary_s[\n",
    "                                                                                                              'S2'],\n",
    "                                                                                                          F5S3=dictionary_f_intersection_s.get(\n",
    "                                                                                                              'F5S3',\n",
    "                                                                                                              0), S3=\n",
    "                                                                                                          dictionary_s[\n",
    "                                                                                                              'S3']))\n",
    "\n",
    "\n",
    "\n",
    "# # you can free to change all these codes/structure\n",
    "# def compute_conditional_probabilites(A):\n",
    "#     # your code\n",
    "#     # print the output as per the instructions\n",
    "\n",
    "A = [['F1','S1'],['F2','S2'],['F3','S3'],['F1','S2'],['F2','S3'],['F3','S2'],['F2','S1'],['F4','S1'],['F4','S3'],['F5','S1']]\n",
    "\n",
    "compute_conditional_probability(A)"
   ]
  },
  {
   "cell_type": "markdown",
   "metadata": {
    "colab_type": "text",
    "id": "n4HS87QmB-lF"
   },
   "source": [
    "<h3> Q9: Given two sentances S1, S2</h3>\n",
    "You will be given two sentances S1, S2 your task is to find \n",
    "<pre>\n",
    "a. Number of common words between S1, S2\n",
    "b. Words in S1 but not in S2\n",
    "c. Words in S2 but not in S1\n",
    "</pre>\n",
    "\n",
    "Ex: \n",
    "<pre>\n",
    "S1= \"the first column F will contain only 5 uniques values\"\n",
    "S2= \"the second column S will contain only 3 uniques values\"\n",
    "Output:\n",
    "a. 7\n",
    "b. ['first','F','5']\n",
    "c. ['second','S','3']\n",
    "</pre>"
   ]
  },
  {
   "cell_type": "code",
   "execution_count": 10,
   "metadata": {
    "colab": {},
    "colab_type": "code",
    "id": "Ez7hlHK0B-lG"
   },
   "outputs": [
    {
     "name": "stdout",
     "output_type": "stream",
     "text": [
      "7 ['F', 'first', '5'] ['second', 'S', '3']\n"
     ]
    }
   ],
   "source": [
    "# write your python code here\n",
    "# you can take the above example as sample input for your program to test\n",
    "# it should work for any general input try not to hard code for only given input strings\n",
    "\n",
    "# you can free to change all these codes/structure\n",
    "def string_features(S1, S2):\n",
    "    # your code\n",
    "    S1 = S1.split(\" \")\n",
    "    S1 = set(S1)\n",
    "    S2 = S2.split(\" \")\n",
    "    S2 = set(S2)\n",
    "    a = len(S1.intersection(S2)) #Number of common words between S1, S2\n",
    "    b = list(S1 - S2)            #Words in S1 but not in S2\n",
    "    c = list(S2 - S1)            #Words in S2 but not in S1\n",
    "    return a, b, c\n",
    "\n",
    "S1= \"the first column F will contain only 5 uniques values\"\n",
    "S2= \"the second column S will contain only 3 uniques values\"\n",
    "a,b,c = string_features(S1, S2)\n",
    "print(a,b,c)"
   ]
  },
  {
   "cell_type": "markdown",
   "metadata": {
    "colab_type": "text",
    "id": "XefXVEjCB-lI"
   },
   "source": [
    "<h3> Q10: Given two sentances S1, S2</h3>\n",
    "You will be given a list of lists, each sublist will be of length 2 i.e. [[x,y],[p,q],[l,m]..[r,s]]\n",
    "consider its like a martrix of n rows and two columns\n",
    "\n",
    "a. the first column Y will contain interger values <br>\n",
    "b. the second column $Y_{score}$ will be having float values <br>\n",
    "Your task is to find the value of $f(Y,Y_{score}) = -1*\\frac{1}{n}\\Sigma_{for each Y,Y_{score} pair}(Ylog10(Y_{score})+(1-Y)log10(1-Y_{score}))$ here n is the number of rows in the matrix\n",
    "<pre>\n",
    "Ex:\n",
    "[[1, 0.4], [0, 0.5], [0, 0.9], [0, 0.3], [0, 0.6], [1, 0.1], [1, 0.9], [1, 0.8]]\n",
    "output:\n",
    "0.4243099\n",
    "</pre>\n",
    "$\\frac{-1}{8}\\cdot((1\\cdot log_{10}(0.4)+0\\cdot log_{10}(0.6))+(0\\cdot log_{10}(0.5)+1\\cdot log_{10}(0.5)) + ... + (1\\cdot log_{10}(0.8)+0\\cdot log_{10}(0.2)) )$"
   ]
  },
  {
   "cell_type": "code",
   "execution_count": 17,
   "metadata": {
    "colab": {},
    "colab_type": "code",
    "id": "N9zkagyNB-lJ"
   },
   "outputs": [
    {
     "name": "stdout",
     "output_type": "stream",
     "text": [
      "0.4243099\n"
     ]
    }
   ],
   "source": [
    "# write your python code here\n",
    "# you can take the above example as sample input for your program to test\n",
    "# it should work for any general input try not to hard code for only given input strings\n",
    "\n",
    "\n",
    "# you can free to change all these codes/structure\n",
    "import math\n",
    "def compute_log_loss(A):\n",
    "    # your code\n",
    "    values=[]\n",
    "    for i in range(len(A)):\n",
    "        m=((A[i][0]*(math.log10(A[i][1])))+((1-A[i][0])*(math.log10(1-A[i][1]))))\n",
    "        values.append(m)\n",
    "    loss=0\n",
    "    for i in range(len(values)):\n",
    "        loss+=values[i]\n",
    "    loss=loss/len(values)\n",
    "    loss=(-1)*loss        \n",
    "    return loss\n",
    "\n",
    "A = [[1, 0.4], [0, 0.5], [0, 0.9], [0, 0.3], [0, 0.6], [1, 0.1], [1, 0.9], [1, 0.8]]\n",
    "loss = compute_log_loss(A)\n",
    "print(round(loss,7))"
   ]
  }
 ],
 "metadata": {
  "colab": {
   "collapsed_sections": [],
   "name": "1.Python Assignment.ipynb",
   "provenance": []
  },
  "kernelspec": {
   "display_name": "Python 3 (ipykernel)",
   "language": "python",
   "name": "python3"
  },
  "language_info": {
   "codemirror_mode": {
    "name": "ipython",
    "version": 3
   },
   "file_extension": ".py",
   "mimetype": "text/x-python",
   "name": "python",
   "nbconvert_exporter": "python",
   "pygments_lexer": "ipython3",
   "version": "3.9.7"
  }
 },
 "nbformat": 4,
 "nbformat_minor": 1
}
